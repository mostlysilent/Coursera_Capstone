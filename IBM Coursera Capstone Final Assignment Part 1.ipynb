{
 "cells": [
  {
   "cell_type": "markdown",
   "metadata": {
    "collapsed": true
   },
   "source": [
    "## Captone Project: Which Edinburgh Neighbourhood should a Developer open a New Venue in? "
   ]
  },
  {
   "cell_type": "markdown",
   "metadata": {},
   "source": [
    "# The Project\n",
    "\n",
    "Edinburgh is the capital city of Scotland. The City of Edinburgh Council Area contains 531,000 people. \n",
    "\n",
    "The city has a high standard of living and hosts many live music events. It hosts a rich cultural heritage and an excellent array of nightlife, including the International Fringe festival, and has often ranked favourably in UK and global city comparisons. \n",
    "\n",
    "My client is an international venue developer, specialising in live performances, that wants to develop identify the best locations for live events venues in the city. From their perspective, an important feature of the best venues is that they are located in neighbourhoods with good concentrations of restaurants and other appropriate 'supporting venues' like coffee shops and gastro bars, as this will make the venue attractive to potential attendants who choose to, for example, attend a restaurant before going to a live show. At the same time, Edinburgh has a very concentrated city centre with correspondingly high rental prices. For this reason, they are keen to get a city wide analysis which potentially uncovers unexploited locations that might not be immediately obvious but nonetheless provide a good location to develop. \n",
    "\n",
    "I am tasked providing a cluster analysis of the neighbourhoods to generate recommendations for potential locations for new live music venues, and display this visually. I will proceed with this, in the first, by identifying clustering the most well supported potential venues in the City of Edinburgh and then visually presenting this data."
   ]
  },
  {
   "cell_type": "markdown",
   "metadata": {},
   "source": [
    "# The Data \n",
    "\n",
    "This analysis will require performing a cluster analysis of Edinburgh neighbourhoods relative to their level of nightlife. We will therefore require:\n",
    "\n",
    "- Location data, which will provided by Foursquare API and by accessed using the Request function in python. \n",
    "- Geographical neighbourhood data for the neighbourhoods of Edinburgh. This will be obtained from Edinburgh city council.\n",
    "\n"
   ]
  },
  {
   "cell_type": "code",
   "execution_count": null,
   "metadata": {},
   "outputs": [],
   "source": []
  }
 ],
 "metadata": {
  "kernelspec": {
   "display_name": "Python 3.6",
   "language": "python",
   "name": "python3"
  },
  "language_info": {
   "codemirror_mode": {
    "name": "ipython",
    "version": 3
   },
   "file_extension": ".py",
   "mimetype": "text/x-python",
   "name": "python",
   "nbconvert_exporter": "python",
   "pygments_lexer": "ipython3",
   "version": "3.6.9"
  }
 },
 "nbformat": 4,
 "nbformat_minor": 1
}
